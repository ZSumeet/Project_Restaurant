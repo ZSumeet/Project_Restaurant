{
 "cells": [
  {
   "cell_type": "code",
   "execution_count": 1,
   "metadata": {},
   "outputs": [],
   "source": [
    "import pandas as pd\n",
    "import numpy as np\n",
    "import seaborn as sns\n",
    "import matplotlib.pyplot as plt\n",
    "%matplotlib inline"
   ]
  },
  {
   "cell_type": "code",
   "execution_count": 2,
   "metadata": {
    "scrolled": true
   },
   "outputs": [],
   "source": [
    "df = pd.read_csv(\"/Users/sumeetsawant/Downloads/zomato-restaurants-data/zomato.csv\", encoding = 'ISO-8859-1')"
   ]
  },
  {
   "cell_type": "code",
   "execution_count": 3,
   "metadata": {},
   "outputs": [
    {
     "data": {
      "text/html": [
       "<div>\n",
       "<style scoped>\n",
       "    .dataframe tbody tr th:only-of-type {\n",
       "        vertical-align: middle;\n",
       "    }\n",
       "\n",
       "    .dataframe tbody tr th {\n",
       "        vertical-align: top;\n",
       "    }\n",
       "\n",
       "    .dataframe thead th {\n",
       "        text-align: right;\n",
       "    }\n",
       "</style>\n",
       "<table border=\"1\" class=\"dataframe\">\n",
       "  <thead>\n",
       "    <tr style=\"text-align: right;\">\n",
       "      <th></th>\n",
       "      <th>Restaurant ID</th>\n",
       "      <th>Restaurant Name</th>\n",
       "      <th>Country Code</th>\n",
       "      <th>City</th>\n",
       "      <th>Address</th>\n",
       "      <th>Locality</th>\n",
       "      <th>Locality Verbose</th>\n",
       "      <th>Longitude</th>\n",
       "      <th>Latitude</th>\n",
       "      <th>Cuisines</th>\n",
       "      <th>...</th>\n",
       "      <th>Currency</th>\n",
       "      <th>Has Table booking</th>\n",
       "      <th>Has Online delivery</th>\n",
       "      <th>Is delivering now</th>\n",
       "      <th>Switch to order menu</th>\n",
       "      <th>Price range</th>\n",
       "      <th>Aggregate rating</th>\n",
       "      <th>Rating color</th>\n",
       "      <th>Rating text</th>\n",
       "      <th>Votes</th>\n",
       "    </tr>\n",
       "  </thead>\n",
       "  <tbody>\n",
       "    <tr>\n",
       "      <th>0</th>\n",
       "      <td>6317637</td>\n",
       "      <td>Le Petit Souffle</td>\n",
       "      <td>162</td>\n",
       "      <td>Makati City</td>\n",
       "      <td>Third Floor, Century City Mall, Kalayaan Avenu...</td>\n",
       "      <td>Century City Mall, Poblacion, Makati City</td>\n",
       "      <td>Century City Mall, Poblacion, Makati City, Mak...</td>\n",
       "      <td>121.027535</td>\n",
       "      <td>14.565443</td>\n",
       "      <td>French, Japanese, Desserts</td>\n",
       "      <td>...</td>\n",
       "      <td>Botswana Pula(P)</td>\n",
       "      <td>Yes</td>\n",
       "      <td>No</td>\n",
       "      <td>No</td>\n",
       "      <td>No</td>\n",
       "      <td>3</td>\n",
       "      <td>4.8</td>\n",
       "      <td>Dark Green</td>\n",
       "      <td>Excellent</td>\n",
       "      <td>314</td>\n",
       "    </tr>\n",
       "    <tr>\n",
       "      <th>1</th>\n",
       "      <td>6304287</td>\n",
       "      <td>Izakaya Kikufuji</td>\n",
       "      <td>162</td>\n",
       "      <td>Makati City</td>\n",
       "      <td>Little Tokyo, 2277 Chino Roces Avenue, Legaspi...</td>\n",
       "      <td>Little Tokyo, Legaspi Village, Makati City</td>\n",
       "      <td>Little Tokyo, Legaspi Village, Makati City, Ma...</td>\n",
       "      <td>121.014101</td>\n",
       "      <td>14.553708</td>\n",
       "      <td>Japanese</td>\n",
       "      <td>...</td>\n",
       "      <td>Botswana Pula(P)</td>\n",
       "      <td>Yes</td>\n",
       "      <td>No</td>\n",
       "      <td>No</td>\n",
       "      <td>No</td>\n",
       "      <td>3</td>\n",
       "      <td>4.5</td>\n",
       "      <td>Dark Green</td>\n",
       "      <td>Excellent</td>\n",
       "      <td>591</td>\n",
       "    </tr>\n",
       "    <tr>\n",
       "      <th>2</th>\n",
       "      <td>6300002</td>\n",
       "      <td>Heat - Edsa Shangri-La</td>\n",
       "      <td>162</td>\n",
       "      <td>Mandaluyong City</td>\n",
       "      <td>Edsa Shangri-La, 1 Garden Way, Ortigas, Mandal...</td>\n",
       "      <td>Edsa Shangri-La, Ortigas, Mandaluyong City</td>\n",
       "      <td>Edsa Shangri-La, Ortigas, Mandaluyong City, Ma...</td>\n",
       "      <td>121.056831</td>\n",
       "      <td>14.581404</td>\n",
       "      <td>Seafood, Asian, Filipino, Indian</td>\n",
       "      <td>...</td>\n",
       "      <td>Botswana Pula(P)</td>\n",
       "      <td>Yes</td>\n",
       "      <td>No</td>\n",
       "      <td>No</td>\n",
       "      <td>No</td>\n",
       "      <td>4</td>\n",
       "      <td>4.4</td>\n",
       "      <td>Green</td>\n",
       "      <td>Very Good</td>\n",
       "      <td>270</td>\n",
       "    </tr>\n",
       "    <tr>\n",
       "      <th>3</th>\n",
       "      <td>6318506</td>\n",
       "      <td>Ooma</td>\n",
       "      <td>162</td>\n",
       "      <td>Mandaluyong City</td>\n",
       "      <td>Third Floor, Mega Fashion Hall, SM Megamall, O...</td>\n",
       "      <td>SM Megamall, Ortigas, Mandaluyong City</td>\n",
       "      <td>SM Megamall, Ortigas, Mandaluyong City, Mandal...</td>\n",
       "      <td>121.056475</td>\n",
       "      <td>14.585318</td>\n",
       "      <td>Japanese, Sushi</td>\n",
       "      <td>...</td>\n",
       "      <td>Botswana Pula(P)</td>\n",
       "      <td>No</td>\n",
       "      <td>No</td>\n",
       "      <td>No</td>\n",
       "      <td>No</td>\n",
       "      <td>4</td>\n",
       "      <td>4.9</td>\n",
       "      <td>Dark Green</td>\n",
       "      <td>Excellent</td>\n",
       "      <td>365</td>\n",
       "    </tr>\n",
       "    <tr>\n",
       "      <th>4</th>\n",
       "      <td>6314302</td>\n",
       "      <td>Sambo Kojin</td>\n",
       "      <td>162</td>\n",
       "      <td>Mandaluyong City</td>\n",
       "      <td>Third Floor, Mega Atrium, SM Megamall, Ortigas...</td>\n",
       "      <td>SM Megamall, Ortigas, Mandaluyong City</td>\n",
       "      <td>SM Megamall, Ortigas, Mandaluyong City, Mandal...</td>\n",
       "      <td>121.057508</td>\n",
       "      <td>14.584450</td>\n",
       "      <td>Japanese, Korean</td>\n",
       "      <td>...</td>\n",
       "      <td>Botswana Pula(P)</td>\n",
       "      <td>Yes</td>\n",
       "      <td>No</td>\n",
       "      <td>No</td>\n",
       "      <td>No</td>\n",
       "      <td>4</td>\n",
       "      <td>4.8</td>\n",
       "      <td>Dark Green</td>\n",
       "      <td>Excellent</td>\n",
       "      <td>229</td>\n",
       "    </tr>\n",
       "    <tr>\n",
       "      <th>5</th>\n",
       "      <td>18189371</td>\n",
       "      <td>Din Tai Fung</td>\n",
       "      <td>162</td>\n",
       "      <td>Mandaluyong City</td>\n",
       "      <td>Ground Floor, Mega Fashion Hall, SM Megamall, ...</td>\n",
       "      <td>SM Megamall, Ortigas, Mandaluyong City</td>\n",
       "      <td>SM Megamall, Ortigas, Mandaluyong City, Mandal...</td>\n",
       "      <td>121.056314</td>\n",
       "      <td>14.583764</td>\n",
       "      <td>Chinese</td>\n",
       "      <td>...</td>\n",
       "      <td>Botswana Pula(P)</td>\n",
       "      <td>No</td>\n",
       "      <td>No</td>\n",
       "      <td>No</td>\n",
       "      <td>No</td>\n",
       "      <td>3</td>\n",
       "      <td>4.4</td>\n",
       "      <td>Green</td>\n",
       "      <td>Very Good</td>\n",
       "      <td>336</td>\n",
       "    </tr>\n",
       "    <tr>\n",
       "      <th>6</th>\n",
       "      <td>6300781</td>\n",
       "      <td>Buffet 101</td>\n",
       "      <td>162</td>\n",
       "      <td>Pasay City</td>\n",
       "      <td>Building K, SM By The Bay, Sunset Boulevard, M...</td>\n",
       "      <td>SM by the Bay, Mall of Asia Complex, Pasay City</td>\n",
       "      <td>SM by the Bay, Mall of Asia Complex, Pasay Cit...</td>\n",
       "      <td>120.979667</td>\n",
       "      <td>14.531333</td>\n",
       "      <td>Asian, European</td>\n",
       "      <td>...</td>\n",
       "      <td>Botswana Pula(P)</td>\n",
       "      <td>Yes</td>\n",
       "      <td>No</td>\n",
       "      <td>No</td>\n",
       "      <td>No</td>\n",
       "      <td>4</td>\n",
       "      <td>4.0</td>\n",
       "      <td>Green</td>\n",
       "      <td>Very Good</td>\n",
       "      <td>520</td>\n",
       "    </tr>\n",
       "    <tr>\n",
       "      <th>7</th>\n",
       "      <td>6301290</td>\n",
       "      <td>Vikings</td>\n",
       "      <td>162</td>\n",
       "      <td>Pasay City</td>\n",
       "      <td>Building B, By The Bay, Seaside Boulevard, Mal...</td>\n",
       "      <td>SM by the Bay, Mall of Asia Complex, Pasay City</td>\n",
       "      <td>SM by the Bay, Mall of Asia Complex, Pasay Cit...</td>\n",
       "      <td>120.979333</td>\n",
       "      <td>14.540000</td>\n",
       "      <td>Seafood, Filipino, Asian, European</td>\n",
       "      <td>...</td>\n",
       "      <td>Botswana Pula(P)</td>\n",
       "      <td>Yes</td>\n",
       "      <td>No</td>\n",
       "      <td>No</td>\n",
       "      <td>No</td>\n",
       "      <td>4</td>\n",
       "      <td>4.2</td>\n",
       "      <td>Green</td>\n",
       "      <td>Very Good</td>\n",
       "      <td>677</td>\n",
       "    </tr>\n",
       "    <tr>\n",
       "      <th>8</th>\n",
       "      <td>6300010</td>\n",
       "      <td>Spiral - Sofitel Philippine Plaza Manila</td>\n",
       "      <td>162</td>\n",
       "      <td>Pasay City</td>\n",
       "      <td>Plaza Level, Sofitel Philippine Plaza Manila, ...</td>\n",
       "      <td>Sofitel Philippine Plaza Manila, Pasay City</td>\n",
       "      <td>Sofitel Philippine Plaza Manila, Pasay City, P...</td>\n",
       "      <td>120.980090</td>\n",
       "      <td>14.552990</td>\n",
       "      <td>European, Asian, Indian</td>\n",
       "      <td>...</td>\n",
       "      <td>Botswana Pula(P)</td>\n",
       "      <td>Yes</td>\n",
       "      <td>No</td>\n",
       "      <td>No</td>\n",
       "      <td>No</td>\n",
       "      <td>4</td>\n",
       "      <td>4.9</td>\n",
       "      <td>Dark Green</td>\n",
       "      <td>Excellent</td>\n",
       "      <td>621</td>\n",
       "    </tr>\n",
       "    <tr>\n",
       "      <th>9</th>\n",
       "      <td>6314987</td>\n",
       "      <td>Locavore</td>\n",
       "      <td>162</td>\n",
       "      <td>Pasig City</td>\n",
       "      <td>Brixton Technology Center, 10 Brixton Street, ...</td>\n",
       "      <td>Kapitolyo</td>\n",
       "      <td>Kapitolyo, Pasig City</td>\n",
       "      <td>121.056532</td>\n",
       "      <td>14.572041</td>\n",
       "      <td>Filipino</td>\n",
       "      <td>...</td>\n",
       "      <td>Botswana Pula(P)</td>\n",
       "      <td>Yes</td>\n",
       "      <td>No</td>\n",
       "      <td>No</td>\n",
       "      <td>No</td>\n",
       "      <td>3</td>\n",
       "      <td>4.8</td>\n",
       "      <td>Dark Green</td>\n",
       "      <td>Excellent</td>\n",
       "      <td>532</td>\n",
       "    </tr>\n",
       "  </tbody>\n",
       "</table>\n",
       "<p>10 rows × 21 columns</p>\n",
       "</div>"
      ],
      "text/plain": [
       "   Restaurant ID                           Restaurant Name  Country Code  \\\n",
       "0        6317637                          Le Petit Souffle           162   \n",
       "1        6304287                          Izakaya Kikufuji           162   \n",
       "2        6300002                    Heat - Edsa Shangri-La           162   \n",
       "3        6318506                                      Ooma           162   \n",
       "4        6314302                               Sambo Kojin           162   \n",
       "5       18189371                              Din Tai Fung           162   \n",
       "6        6300781                                Buffet 101           162   \n",
       "7        6301290                                   Vikings           162   \n",
       "8        6300010  Spiral - Sofitel Philippine Plaza Manila           162   \n",
       "9        6314987                                  Locavore           162   \n",
       "\n",
       "               City                                            Address  \\\n",
       "0       Makati City  Third Floor, Century City Mall, Kalayaan Avenu...   \n",
       "1       Makati City  Little Tokyo, 2277 Chino Roces Avenue, Legaspi...   \n",
       "2  Mandaluyong City  Edsa Shangri-La, 1 Garden Way, Ortigas, Mandal...   \n",
       "3  Mandaluyong City  Third Floor, Mega Fashion Hall, SM Megamall, O...   \n",
       "4  Mandaluyong City  Third Floor, Mega Atrium, SM Megamall, Ortigas...   \n",
       "5  Mandaluyong City  Ground Floor, Mega Fashion Hall, SM Megamall, ...   \n",
       "6        Pasay City  Building K, SM By The Bay, Sunset Boulevard, M...   \n",
       "7        Pasay City  Building B, By The Bay, Seaside Boulevard, Mal...   \n",
       "8        Pasay City  Plaza Level, Sofitel Philippine Plaza Manila, ...   \n",
       "9        Pasig City  Brixton Technology Center, 10 Brixton Street, ...   \n",
       "\n",
       "                                          Locality  \\\n",
       "0        Century City Mall, Poblacion, Makati City   \n",
       "1       Little Tokyo, Legaspi Village, Makati City   \n",
       "2       Edsa Shangri-La, Ortigas, Mandaluyong City   \n",
       "3           SM Megamall, Ortigas, Mandaluyong City   \n",
       "4           SM Megamall, Ortigas, Mandaluyong City   \n",
       "5           SM Megamall, Ortigas, Mandaluyong City   \n",
       "6  SM by the Bay, Mall of Asia Complex, Pasay City   \n",
       "7  SM by the Bay, Mall of Asia Complex, Pasay City   \n",
       "8      Sofitel Philippine Plaza Manila, Pasay City   \n",
       "9                                        Kapitolyo   \n",
       "\n",
       "                                    Locality Verbose   Longitude   Latitude  \\\n",
       "0  Century City Mall, Poblacion, Makati City, Mak...  121.027535  14.565443   \n",
       "1  Little Tokyo, Legaspi Village, Makati City, Ma...  121.014101  14.553708   \n",
       "2  Edsa Shangri-La, Ortigas, Mandaluyong City, Ma...  121.056831  14.581404   \n",
       "3  SM Megamall, Ortigas, Mandaluyong City, Mandal...  121.056475  14.585318   \n",
       "4  SM Megamall, Ortigas, Mandaluyong City, Mandal...  121.057508  14.584450   \n",
       "5  SM Megamall, Ortigas, Mandaluyong City, Mandal...  121.056314  14.583764   \n",
       "6  SM by the Bay, Mall of Asia Complex, Pasay Cit...  120.979667  14.531333   \n",
       "7  SM by the Bay, Mall of Asia Complex, Pasay Cit...  120.979333  14.540000   \n",
       "8  Sofitel Philippine Plaza Manila, Pasay City, P...  120.980090  14.552990   \n",
       "9                              Kapitolyo, Pasig City  121.056532  14.572041   \n",
       "\n",
       "                             Cuisines  ...           Currency  \\\n",
       "0          French, Japanese, Desserts  ...   Botswana Pula(P)   \n",
       "1                            Japanese  ...   Botswana Pula(P)   \n",
       "2    Seafood, Asian, Filipino, Indian  ...   Botswana Pula(P)   \n",
       "3                     Japanese, Sushi  ...   Botswana Pula(P)   \n",
       "4                    Japanese, Korean  ...   Botswana Pula(P)   \n",
       "5                             Chinese  ...   Botswana Pula(P)   \n",
       "6                     Asian, European  ...   Botswana Pula(P)   \n",
       "7  Seafood, Filipino, Asian, European  ...   Botswana Pula(P)   \n",
       "8             European, Asian, Indian  ...   Botswana Pula(P)   \n",
       "9                            Filipino  ...   Botswana Pula(P)   \n",
       "\n",
       "  Has Table booking Has Online delivery Is delivering now  \\\n",
       "0               Yes                  No                No   \n",
       "1               Yes                  No                No   \n",
       "2               Yes                  No                No   \n",
       "3                No                  No                No   \n",
       "4               Yes                  No                No   \n",
       "5                No                  No                No   \n",
       "6               Yes                  No                No   \n",
       "7               Yes                  No                No   \n",
       "8               Yes                  No                No   \n",
       "9               Yes                  No                No   \n",
       "\n",
       "  Switch to order menu Price range  Aggregate rating  Rating color  \\\n",
       "0                   No           3               4.8    Dark Green   \n",
       "1                   No           3               4.5    Dark Green   \n",
       "2                   No           4               4.4         Green   \n",
       "3                   No           4               4.9    Dark Green   \n",
       "4                   No           4               4.8    Dark Green   \n",
       "5                   No           3               4.4         Green   \n",
       "6                   No           4               4.0         Green   \n",
       "7                   No           4               4.2         Green   \n",
       "8                   No           4               4.9    Dark Green   \n",
       "9                   No           3               4.8    Dark Green   \n",
       "\n",
       "  Rating text Votes  \n",
       "0   Excellent   314  \n",
       "1   Excellent   591  \n",
       "2   Very Good   270  \n",
       "3   Excellent   365  \n",
       "4   Excellent   229  \n",
       "5   Very Good   336  \n",
       "6   Very Good   520  \n",
       "7   Very Good   677  \n",
       "8   Excellent   621  \n",
       "9   Excellent   532  \n",
       "\n",
       "[10 rows x 21 columns]"
      ]
     },
     "execution_count": 3,
     "metadata": {},
     "output_type": "execute_result"
    }
   ],
   "source": [
    "df.head(10)"
   ]
  },
  {
   "cell_type": "code",
   "execution_count": 4,
   "metadata": {},
   "outputs": [],
   "source": [
    "to_drop = [\"Locality\", \"Address\", \"Locality Verbose\", \"Longitude\", \"Latitude\" , \"Switch to order menu\"]\n",
    "df.drop(to_drop, inplace = True, axis =1 )"
   ]
  },
  {
   "cell_type": "code",
   "execution_count": 5,
   "metadata": {},
   "outputs": [
    {
     "data": {
      "text/plain": [
       "True"
      ]
     },
     "execution_count": 5,
     "metadata": {},
     "output_type": "execute_result"
    }
   ],
   "source": [
    "df['Restaurant ID'].is_unique"
   ]
  },
  {
   "cell_type": "code",
   "execution_count": 6,
   "metadata": {},
   "outputs": [],
   "source": [
    "df[\"Country Code1\"]=df[\"Country Code\"].apply(str)\n",
    "df['Country Code']=df['Country Code'].replace({189:'Canada',216:'Tunisia',215:'Philadelphia',214:'Dallas',1:'India',30:'Greece',148:'Equador'})\n",
    "df['Country Code']=df['Country Code'].replace([208,14,94,191,162,184,166,37],'Others')\n",
    "df=df.rename(columns={\"Country Code\":\"Country Name\"})"
   ]
  },
  {
   "cell_type": "code",
   "execution_count": 7,
   "metadata": {},
   "outputs": [
    {
     "data": {
      "text/html": [
       "<div>\n",
       "<style scoped>\n",
       "    .dataframe tbody tr th:only-of-type {\n",
       "        vertical-align: middle;\n",
       "    }\n",
       "\n",
       "    .dataframe tbody tr th {\n",
       "        vertical-align: top;\n",
       "    }\n",
       "\n",
       "    .dataframe thead th {\n",
       "        text-align: right;\n",
       "    }\n",
       "</style>\n",
       "<table border=\"1\" class=\"dataframe\">\n",
       "  <thead>\n",
       "    <tr style=\"text-align: right;\">\n",
       "      <th></th>\n",
       "      <th>Restaurant ID</th>\n",
       "      <th>Restaurant Name</th>\n",
       "      <th>Country Name</th>\n",
       "      <th>City</th>\n",
       "      <th>Cuisines</th>\n",
       "      <th>Average Cost for two</th>\n",
       "      <th>Currency</th>\n",
       "      <th>Has Table booking</th>\n",
       "      <th>Has Online delivery</th>\n",
       "      <th>Is delivering now</th>\n",
       "      <th>Price range</th>\n",
       "      <th>Aggregate rating</th>\n",
       "      <th>Rating color</th>\n",
       "      <th>Rating text</th>\n",
       "      <th>Votes</th>\n",
       "      <th>Country Code1</th>\n",
       "    </tr>\n",
       "  </thead>\n",
       "  <tbody>\n",
       "    <tr>\n",
       "      <th>9283</th>\n",
       "      <td>7402935</td>\n",
       "      <td>Skye</td>\n",
       "      <td>Others</td>\n",
       "      <td>Jakarta</td>\n",
       "      <td>Italian, Continental</td>\n",
       "      <td>800000</td>\n",
       "      <td>Indonesian Rupiah(IDR)</td>\n",
       "      <td>No</td>\n",
       "      <td>No</td>\n",
       "      <td>No</td>\n",
       "      <td>3</td>\n",
       "      <td>4.1</td>\n",
       "      <td>Green</td>\n",
       "      <td>Very Good</td>\n",
       "      <td>1498</td>\n",
       "      <td>94</td>\n",
       "    </tr>\n",
       "    <tr>\n",
       "      <th>9284</th>\n",
       "      <td>7410290</td>\n",
       "      <td>Satoo - Hotel Shangri-La</td>\n",
       "      <td>Others</td>\n",
       "      <td>Jakarta</td>\n",
       "      <td>Asian, Indonesian, Western</td>\n",
       "      <td>800000</td>\n",
       "      <td>Indonesian Rupiah(IDR)</td>\n",
       "      <td>No</td>\n",
       "      <td>No</td>\n",
       "      <td>No</td>\n",
       "      <td>3</td>\n",
       "      <td>4.6</td>\n",
       "      <td>Dark Green</td>\n",
       "      <td>Excellent</td>\n",
       "      <td>873</td>\n",
       "      <td>94</td>\n",
       "    </tr>\n",
       "    <tr>\n",
       "      <th>9287</th>\n",
       "      <td>7420899</td>\n",
       "      <td>Sushi Masa</td>\n",
       "      <td>Others</td>\n",
       "      <td>Jakarta</td>\n",
       "      <td>Sushi, Japanese</td>\n",
       "      <td>500000</td>\n",
       "      <td>Indonesian Rupiah(IDR)</td>\n",
       "      <td>No</td>\n",
       "      <td>No</td>\n",
       "      <td>No</td>\n",
       "      <td>3</td>\n",
       "      <td>4.9</td>\n",
       "      <td>Dark Green</td>\n",
       "      <td>Excellent</td>\n",
       "      <td>605</td>\n",
       "      <td>94</td>\n",
       "    </tr>\n",
       "  </tbody>\n",
       "</table>\n",
       "</div>"
      ],
      "text/plain": [
       "      Restaurant ID           Restaurant Name Country Name     City  \\\n",
       "9283        7402935                      Skye       Others  Jakarta   \n",
       "9284        7410290  Satoo - Hotel Shangri-La       Others  Jakarta   \n",
       "9287        7420899                Sushi Masa       Others  Jakarta   \n",
       "\n",
       "                        Cuisines  Average Cost for two  \\\n",
       "9283        Italian, Continental                800000   \n",
       "9284  Asian, Indonesian, Western                800000   \n",
       "9287             Sushi, Japanese                500000   \n",
       "\n",
       "                    Currency Has Table booking Has Online delivery  \\\n",
       "9283  Indonesian Rupiah(IDR)                No                  No   \n",
       "9284  Indonesian Rupiah(IDR)                No                  No   \n",
       "9287  Indonesian Rupiah(IDR)                No                  No   \n",
       "\n",
       "     Is delivering now  Price range  Aggregate rating Rating color  \\\n",
       "9283                No            3               4.1        Green   \n",
       "9284                No            3               4.6   Dark Green   \n",
       "9287                No            3               4.9   Dark Green   \n",
       "\n",
       "     Rating text  Votes Country Code1  \n",
       "9283   Very Good   1498            94  \n",
       "9284   Excellent    873            94  \n",
       "9287   Excellent    605            94  "
      ]
     },
     "execution_count": 7,
     "metadata": {},
     "output_type": "execute_result"
    }
   ],
   "source": [
    "df[df[\"Average Cost for two\"]>450000]"
   ]
  },
  {
   "cell_type": "code",
   "execution_count": 8,
   "metadata": {},
   "outputs": [],
   "source": [
    "df=df[df[\"Restaurant ID\"] != 7402935]\n",
    "df=df[df[\"Restaurant ID\"] != 7410290]\n",
    "df=df[df[\"Restaurant ID\"] != 7420899]"
   ]
  },
  {
   "cell_type": "code",
   "execution_count": 9,
   "metadata": {},
   "outputs": [
    {
     "data": {
      "image/png": "[encoded data removed]",
      "text/plain": [
       "<Figure size 720x360 with 1 Axes>"
      ]
     },
     "metadata": {
      "needs_background": "light"
     },
     "output_type": "display_data"
    }
   ],
   "source": [
    "cnd=pd.DataFrame(df[\"Country Name\"].value_counts())\n",
    "sns.barplot(x=cnd.index,y=cnd[\"Country Name\"],data=cnd,palette='Blues_d').set_title('Distribution of restaurants in different Countries')\n",
    "fig = plt.gcf()\n",
    "fig.set_size_inches(10,5)\n",
    "plt.show()"
   ]
  },
  {
   "cell_type": "code",
   "execution_count": 48,
   "metadata": {},
   "outputs": [],
   "source": [
    "df['Has Table booking'] = pd.get_dummies(df[\"Has Table booking\"],drop_first=True)\n",
    "df['Has Online delivery'] = pd.get_dummies(df[\"Has Online delivery\"],drop_first=True)\n",
    "df['Is delivering now'] = pd.get_dummies(df[\"Is delivering now\"],drop_first=True)\n"
   ]
  },
  {
   "cell_type": "code",
   "execution_count": 10,
   "metadata": {},
   "outputs": [
    {
     "data": {
      "image/png": "[encoded data removed]",
      "text/plain": [
       "<Figure size 576x576 with 2 Axes>"
      ]
     },
     "metadata": {},
     "output_type": "display_data"
    },
    {
     "data": {
      "text/plain": [
       "<Figure size 432x288 with 0 Axes>"
      ]
     },
     "metadata": {},
     "output_type": "display_data"
    }
   ],
   "source": [
    "labelyn=['no','yes']\n",
    "fig = plt.gcf()\n",
    "htb=df[\"Has Table booking\"].value_counts()\n",
    "htbd=pd.DataFrame(htb)\n",
    "hod=df[\"Has Online delivery\"].value_counts()\n",
    "hodd=pd.DataFrame(hod)\n",
    "fig.set_size_inches(8,8)\n",
    "plt.subplot(2,2,2)\n",
    "p1=plt.pie(htbd[\"Has Table booking\"],labels=labelyn,colors = ['#1674b1','#ed6d50'],explode=[0.05,0.05],autopct='%2f')\n",
    "fig = plt.gcf()\n",
    "fig.set_size_inches(8,8)\n",
    "plt.title('Distribution of number of restaurant\\n which have the option of booking table.')\n",
    "plt.subplot(2,2,1)\n",
    "p2=plt.pie(hodd[\"Has Online delivery\"],labels=labelyn,colors = ['#1674b1','#ed6d50'],explode=[0.05,0.05],autopct='%2f')\n",
    "fig = plt.gcf()\n",
    "plt.title('Distribution of number of restaurant who \\n takes order online.')\n",
    "plt.figure(2)\n",
    "plt.show()"
   ]
  },
  {
   "cell_type": "code",
   "execution_count": 11,
   "metadata": {},
   "outputs": [
    {
     "data": {
      "image/png": "[encoded data removed]",
      "text/plain": [
       "<Figure size 432x288 with 1 Axes>"
      ]
     },
     "metadata": {
      "needs_background": "light"
     },
     "output_type": "display_data"
    }
   ],
   "source": [
    "table=pd.crosstab(df[\"Rating text\"],df[\"Price range\"])\n",
    "table.div(table.sum(1).astype(float),axis=0).plot(kind='bar',stacked=True,color=['#5a5255','#1b85b8','#559e83','#ae5a41'])\n",
    "fig.set_size_inches(12,8)\n",
    "plt.show()"
   ]
  },
  {
   "cell_type": "code",
   "execution_count": 12,
   "metadata": {},
   "outputs": [
    {
     "data": {
      "image/png": "[encoded data removed]",
      "text/plain": [
       "<Figure size 864x432 with 1 Axes>"
      ]
     },
     "metadata": {
      "needs_background": "light"
     },
     "output_type": "display_data"
    }
   ],
   "source": [
    "table=pd.crosstab(df[\"Country Name\"],df[\"Rating text\"])\n",
    "table.div(table.sum(1).astype(float),axis=0).plot(kind='bar',stacked=True,color=['#5a5255','#1b85b8','#559e83','#ae5a41'])\n",
    "figz = plt.gcf()\n",
    "figz.set_size_inches(12,6)\n",
    "plt.show()\n",
    "\n"
   ]
  },
  {
   "cell_type": "code",
   "execution_count": 14,
   "metadata": {},
   "outputs": [],
   "source": [
    "df['Currency']=df['Currency'].replace({'Dollar($)':'Dollar','Pounds(��)':'Pounds','Brazilian Real(R$)':'Brazilian Real','NewZealand($)':'NewZealand Dollar'})\n"
   ]
  },
  {
   "cell_type": "code",
   "execution_count": 15,
   "metadata": {},
   "outputs": [],
   "source": [
    "cus=df[\"Cuisines\"].value_counts()\n",
    "cuisines = {}\n",
    "cnt=0\n",
    "for i in cus.index:\n",
    "    for j in i.split(\", \"):\n",
    "        if j not in cuisines:\n",
    "            cuisines[j]=cus[cnt]\n",
    "        else:\n",
    "            cuisines[j] += cus[cnt]\n",
    "    cnt += 1\n",
    "    \n",
    "cuisines = pd.Series(cuisines).sort_values(ascending=False)"
   ]
  },
  {
   "cell_type": "code",
   "execution_count": 16,
   "metadata": {},
   "outputs": [
    {
     "data": {
      "image/png": "[encoded data removed]",
      "text/plain": [
       "<Figure size 1152x432 with 1 Axes>"
      ]
     },
     "metadata": {
      "needs_background": "light"
     },
     "output_type": "display_data"
    }
   ],
   "source": [
    "sns.barplot(cuisines[:15].values,cuisines[:15].index, palette=\"Blues_d\")\n",
    "fig2 = plt.gcf()\n",
    "fig2.set_size_inches(16,6)\n",
    "plt.show()"
   ]
  },
  {
   "cell_type": "code",
   "execution_count": 17,
   "metadata": {},
   "outputs": [],
   "source": [
    "India=df[df.Currency == 'Indian Rupees(Rs.)']\n"
   ]
  },
  {
   "cell_type": "code",
   "execution_count": 18,
   "metadata": {},
   "outputs": [
    {
     "data": {
      "text/plain": [
       "244.0"
      ]
     },
     "execution_count": 18,
     "metadata": {},
     "output_type": "execute_result"
    }
   ],
   "source": [
    "q3_v=India[\"Votes\"].quantile(0.75)\n",
    "q1_v=India[\"Votes\"].quantile(0.25)\n",
    "iqr_v=q3_v-q1_v\n",
    "lowervotes=q1_v-(iqr_v*1.5)\n",
    "uppervotes=q3_v+(iqr_v*1.5)\n",
    "uppervotes"
   ]
  },
  {
   "cell_type": "code",
   "execution_count": 19,
   "metadata": {},
   "outputs": [
    {
     "data": {
      "text/plain": [
       "<matplotlib.axes._subplots.AxesSubplot at 0x1a24105898>"
      ]
     },
     "execution_count": 19,
     "metadata": {},
     "output_type": "execute_result"
    },
    {
     "data": {
      "image/png": "[encoded data removed]",
      "text/plain": [
       "<Figure size 432x288 with 1 Axes>"
      ]
     },
     "metadata": {
      "needs_background": "light"
     },
     "output_type": "display_data"
    }
   ],
   "source": [
    "sns.boxplot(India[\"Votes\"])"
   ]
  },
  {
   "cell_type": "code",
   "execution_count": 53,
   "metadata": {},
   "outputs": [],
   "source": [
    "India=India[India[\"Votes\"]<244]\n"
   ]
  },
  {
   "cell_type": "code",
   "execution_count": null,
   "metadata": {},
   "outputs": [],
   "source": []
  },
  {
   "cell_type": "code",
   "execution_count": 54,
   "metadata": {},
   "outputs": [
    {
     "data": {
      "text/plain": [
       "1050.0"
      ]
     },
     "execution_count": 54,
     "metadata": {},
     "output_type": "execute_result"
    }
   ],
   "source": [
    "q3_avg=India[\"Average Cost for two\"].quantile(0.75)\n",
    "q1_avg=India[\"Average Cost for two\"].quantile(0.25)\n",
    "iqr_avg=q3_avg-q1_avg\n",
    "loweravg=q1_avg-(iqr_avg*1.5)\n",
    "upperavg=q3_avg+(iqr_avg*1.5)\n",
    "upperavg"
   ]
  },
  {
   "cell_type": "code",
   "execution_count": 55,
   "metadata": {},
   "outputs": [],
   "source": [
    "India=India[India[\"Average Cost for two\"]<1050]\n"
   ]
  },
  {
   "cell_type": "code",
   "execution_count": 56,
   "metadata": {},
   "outputs": [],
   "source": [
    "X=India.drop([\"Restaurant ID\",\"Restaurant Name\",\"Rating text\",\"Country Name\",\"City\",\"Rating color\",\n",
    "           \"Cuisines\",\"Currency\",\"Country Code1\",\"Aggregate rating\"],axis=1)\n",
    "y=India[\"Aggregate rating\"]"
   ]
  },
  {
   "cell_type": "code",
   "execution_count": 57,
   "metadata": {},
   "outputs": [],
   "source": [
    "from sklearn.model_selection import train_test_split\n",
    "from sklearn.linear_model import LinearRegression\n"
   ]
  },
  {
   "cell_type": "code",
   "execution_count": 58,
   "metadata": {},
   "outputs": [],
   "source": [
    "X_train, X_test, y_train, y_test  = train_test_split(X, y , test_size = 0.2, random_state = 42)"
   ]
  },
  {
   "cell_type": "code",
   "execution_count": 59,
   "metadata": {},
   "outputs": [
    {
     "data": {
      "text/plain": [
       "LinearRegression(copy_X=True, fit_intercept=True, n_jobs=None,\n",
       "         normalize=False)"
      ]
     },
     "execution_count": 59,
     "metadata": {},
     "output_type": "execute_result"
    }
   ],
   "source": [
    "model = LinearRegression()\n",
    "model.fit(X_train, y_train)"
   ]
  },
  {
   "cell_type": "code",
   "execution_count": 60,
   "metadata": {},
   "outputs": [],
   "source": [
    "y_predict =  model.predict(X_test)"
   ]
  },
  {
   "cell_type": "code",
   "execution_count": 61,
   "metadata": {},
   "outputs": [],
   "source": [
    "from sklearn.metrics import r2_score"
   ]
  },
  {
   "cell_type": "code",
   "execution_count": 62,
   "metadata": {},
   "outputs": [
    {
     "data": {
      "text/plain": [
       "0.3397209241977006"
      ]
     },
     "execution_count": 62,
     "metadata": {},
     "output_type": "execute_result"
    }
   ],
   "source": [
    "r2_score(y_test, y_predict)"
   ]
  },
  {
   "cell_type": "code",
   "execution_count": 78,
   "metadata": {},
   "outputs": [],
   "source": [
    "from sklearn.tree import DecisionTreeRegressor\n",
    "\n"
   ]
  },
  {
   "cell_type": "code",
   "execution_count": 71,
   "metadata": {},
   "outputs": [
    {
     "data": {
      "text/plain": [
       "DecisionTreeRegressor(criterion='mse', max_depth=6, max_features=None,\n",
       "           max_leaf_nodes=None, min_impurity_decrease=0.0,\n",
       "           min_impurity_split=None, min_samples_leaf=1,\n",
       "           min_samples_split=2, min_weight_fraction_leaf=0.0,\n",
       "           presort=False, random_state=None, splitter='best')"
      ]
     },
     "execution_count": 71,
     "metadata": {},
     "output_type": "execute_result"
    }
   ],
   "source": [
    "modeldt= DecisionTreeRegressor(max_depth=6)\n",
    "modeldt.fit(X_train,y_train)"
   ]
  },
  {
   "cell_type": "code",
   "execution_count": 72,
   "metadata": {},
   "outputs": [
    {
     "data": {
      "text/plain": [
       "0.9593869523320646"
      ]
     },
     "execution_count": 72,
     "metadata": {},
     "output_type": "execute_result"
    }
   ],
   "source": [
    "y_predictdt=modeldt.predict(X_test)\n",
    "r2_score(y_test,y_predictdt)"
   ]
  },
  {
   "cell_type": "code",
   "execution_count": 73,
   "metadata": {},
   "outputs": [],
   "source": [
    "from sklearn.ensemble import GradientBoostingRegressor\n"
   ]
  },
  {
   "cell_type": "code",
   "execution_count": 74,
   "metadata": {},
   "outputs": [],
   "source": [
    "est = GradientBoostingRegressor(n_estimators=100, learning_rate=0.1,\n",
    "      max_depth=1, random_state=0, loss='ls').fit(X_train, y_train)\n"
   ]
  },
  {
   "cell_type": "code",
   "execution_count": 76,
   "metadata": {},
   "outputs": [
    {
     "data": {
      "text/plain": [
       "0.9583564984188241"
      ]
     },
     "execution_count": 76,
     "metadata": {},
     "output_type": "execute_result"
    }
   ],
   "source": [
    "y_predictdt=est.predict(X_test)\n",
    "r2_score(y_test,y_predictdt)"
   ]
  },
  {
   "cell_type": "code",
   "execution_count": 81,
   "metadata": {},
   "outputs": [],
   "source": [
    "import xgboost as xgb\n"
   ]
  },
  {
   "cell_type": "code",
   "execution_count": 82,
   "metadata": {},
   "outputs": [],
   "source": [
    "xgb_clf = xgb.XGBRegressor(max_depth=3, n_estimators=5000, learning_rate=0.2,\n",
    "                            n_jobs=-1)"
   ]
  },
  {
   "cell_type": "code",
   "execution_count": 83,
   "metadata": {},
   "outputs": [
    {
     "name": "stderr",
     "output_type": "stream",
     "text": [
      "/Users/sumeetsawant/anaconda3/lib/python3.7/site-packages/xgboost/core.py:587: FutureWarning: Series.base is deprecated and will be removed in a future version\n",
      "  if getattr(data, 'base', None) is not None and \\\n"
     ]
    },
    {
     "data": {
      "text/plain": [
       "XGBRegressor(base_score=0.5, booster='gbtree', colsample_bylevel=1,\n",
       "       colsample_bytree=1, gamma=0, importance_type='gain',\n",
       "       learning_rate=0.2, max_delta_step=0, max_depth=3,\n",
       "       min_child_weight=1, missing=None, n_estimators=5000, n_jobs=-1,\n",
       "       nthread=None, objective='reg:linear', random_state=0, reg_alpha=0,\n",
       "       reg_lambda=1, scale_pos_weight=1, seed=None, silent=True,\n",
       "       subsample=1)"
      ]
     },
     "execution_count": 83,
     "metadata": {},
     "output_type": "execute_result"
    }
   ],
   "source": [
    "xgb_clf.fit(X_train, y_train)\n",
    "\n"
   ]
  },
  {
   "cell_type": "code",
   "execution_count": 85,
   "metadata": {},
   "outputs": [],
   "source": [
    "y_pred = xgb_clf.predict(X_test)"
   ]
  },
  {
   "cell_type": "code",
   "execution_count": 86,
   "metadata": {},
   "outputs": [
    {
     "data": {
      "text/plain": [
       "0.9423166027462261"
      ]
     },
     "execution_count": 86,
     "metadata": {},
     "output_type": "execute_result"
    }
   ],
   "source": [
    "r2_score(y_test, y_pred) "
   ]
  },
  {
   "cell_type": "code",
   "execution_count": null,
   "metadata": {},
   "outputs": [],
   "source": []
  }
 ],
 "metadata": {
  "kernelspec": {
   "display_name": "Python 3",
   "language": "python",
   "name": "python3"
  },
  "language_info": {
   "codemirror_mode": {
    "name": "ipython",
    "version": 3
   },
   "file_extension": ".py",
   "mimetype": "text/x-python",
   "name": "python",
   "nbconvert_exporter": "python",
   "pygments_lexer": "ipython3",
   "version": "3.7.1"
  }
 },
 "nbformat": 4,
 "nbformat_minor": 2
}
